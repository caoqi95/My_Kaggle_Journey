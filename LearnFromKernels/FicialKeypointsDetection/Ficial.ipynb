{
 "cells": [
  {
   "cell_type": "code",
   "execution_count": 1,
   "metadata": {},
   "outputs": [
    {
     "name": "stderr",
     "output_type": "stream",
     "text": [
      "Using TensorFlow backend.\n"
     ]
    }
   ],
   "source": [
    "import zipfile\n",
    "import pandas as pd\n",
    "import numpy as np\n",
    "from matplotlib import pyplot as plt\n",
    "from livelossplot import PlotLossesKeras"
   ]
  },
  {
   "cell_type": "code",
   "execution_count": 2,
   "metadata": {},
   "outputs": [],
   "source": [
    "# extract the test.zip and train.zip files\n",
    "\n",
    "train_zip = zipfile.ZipFile('training.zip')\n",
    "train_zip.extractall()\n",
    "\n",
    "test_zip = zipfile.ZipFile('test.zip')\n",
    "test_zip.extractall()"
   ]
  },
  {
   "cell_type": "code",
   "execution_count": 3,
   "metadata": {},
   "outputs": [
    {
     "name": "stdout",
     "output_type": "stream",
     "text": [
      "<class 'pandas.core.frame.DataFrame'>\n",
      "RangeIndex: 7049 entries, 0 to 7048\n",
      "Data columns (total 31 columns):\n",
      "left_eye_center_x            7039 non-null float64\n",
      "left_eye_center_y            7039 non-null float64\n",
      "right_eye_center_x           7036 non-null float64\n",
      "right_eye_center_y           7036 non-null float64\n",
      "left_eye_inner_corner_x      2271 non-null float64\n",
      "left_eye_inner_corner_y      2271 non-null float64\n",
      "left_eye_outer_corner_x      2267 non-null float64\n",
      "left_eye_outer_corner_y      2267 non-null float64\n",
      "right_eye_inner_corner_x     2268 non-null float64\n",
      "right_eye_inner_corner_y     2268 non-null float64\n",
      "right_eye_outer_corner_x     2268 non-null float64\n",
      "right_eye_outer_corner_y     2268 non-null float64\n",
      "left_eyebrow_inner_end_x     2270 non-null float64\n",
      "left_eyebrow_inner_end_y     2270 non-null float64\n",
      "left_eyebrow_outer_end_x     2225 non-null float64\n",
      "left_eyebrow_outer_end_y     2225 non-null float64\n",
      "right_eyebrow_inner_end_x    2270 non-null float64\n",
      "right_eyebrow_inner_end_y    2270 non-null float64\n",
      "right_eyebrow_outer_end_x    2236 non-null float64\n",
      "right_eyebrow_outer_end_y    2236 non-null float64\n",
      "nose_tip_x                   7049 non-null float64\n",
      "nose_tip_y                   7049 non-null float64\n",
      "mouth_left_corner_x          2269 non-null float64\n",
      "mouth_left_corner_y          2269 non-null float64\n",
      "mouth_right_corner_x         2270 non-null float64\n",
      "mouth_right_corner_y         2270 non-null float64\n",
      "mouth_center_top_lip_x       2275 non-null float64\n",
      "mouth_center_top_lip_y       2275 non-null float64\n",
      "mouth_center_bottom_lip_x    7016 non-null float64\n",
      "mouth_center_bottom_lip_y    7016 non-null float64\n",
      "Image                        7049 non-null object\n",
      "dtypes: float64(30), object(1)\n",
      "memory usage: 1.7+ MB\n"
     ]
    }
   ],
   "source": [
    "# read train.csv \n",
    "\n",
    "train_csv = pd.read_csv('training.csv')\n",
    "train_csv.info()"
   ]
  },
  {
   "cell_type": "code",
   "execution_count": 4,
   "metadata": {},
   "outputs": [
    {
     "data": {
      "text/html": [
       "<div>\n",
       "<style scoped>\n",
       "    .dataframe tbody tr th:only-of-type {\n",
       "        vertical-align: middle;\n",
       "    }\n",
       "\n",
       "    .dataframe tbody tr th {\n",
       "        vertical-align: top;\n",
       "    }\n",
       "\n",
       "    .dataframe thead th {\n",
       "        text-align: right;\n",
       "    }\n",
       "</style>\n",
       "<table border=\"1\" class=\"dataframe\">\n",
       "  <thead>\n",
       "    <tr style=\"text-align: right;\">\n",
       "      <th></th>\n",
       "      <th>0</th>\n",
       "      <th>1</th>\n",
       "      <th>2</th>\n",
       "      <th>3</th>\n",
       "      <th>4</th>\n",
       "    </tr>\n",
       "  </thead>\n",
       "  <tbody>\n",
       "    <tr>\n",
       "      <th>left_eye_center_x</th>\n",
       "      <td>66.0336</td>\n",
       "      <td>64.3329</td>\n",
       "      <td>65.0571</td>\n",
       "      <td>65.2257</td>\n",
       "      <td>66.7253</td>\n",
       "    </tr>\n",
       "    <tr>\n",
       "      <th>left_eye_center_y</th>\n",
       "      <td>39.0023</td>\n",
       "      <td>34.9701</td>\n",
       "      <td>34.9096</td>\n",
       "      <td>37.2618</td>\n",
       "      <td>39.6213</td>\n",
       "    </tr>\n",
       "    <tr>\n",
       "      <th>right_eye_center_x</th>\n",
       "      <td>30.227</td>\n",
       "      <td>29.9493</td>\n",
       "      <td>30.9038</td>\n",
       "      <td>32.0231</td>\n",
       "      <td>32.2448</td>\n",
       "    </tr>\n",
       "    <tr>\n",
       "      <th>right_eye_center_y</th>\n",
       "      <td>36.4217</td>\n",
       "      <td>33.4487</td>\n",
       "      <td>34.9096</td>\n",
       "      <td>37.2618</td>\n",
       "      <td>38.042</td>\n",
       "    </tr>\n",
       "    <tr>\n",
       "      <th>left_eye_inner_corner_x</th>\n",
       "      <td>59.5821</td>\n",
       "      <td>58.8562</td>\n",
       "      <td>59.412</td>\n",
       "      <td>60.0033</td>\n",
       "      <td>58.5659</td>\n",
       "    </tr>\n",
       "    <tr>\n",
       "      <th>left_eye_inner_corner_y</th>\n",
       "      <td>39.6474</td>\n",
       "      <td>35.2743</td>\n",
       "      <td>36.321</td>\n",
       "      <td>39.1272</td>\n",
       "      <td>39.6213</td>\n",
       "    </tr>\n",
       "    <tr>\n",
       "      <th>left_eye_outer_corner_x</th>\n",
       "      <td>73.1303</td>\n",
       "      <td>70.7227</td>\n",
       "      <td>70.9844</td>\n",
       "      <td>72.3147</td>\n",
       "      <td>72.5159</td>\n",
       "    </tr>\n",
       "    <tr>\n",
       "      <th>left_eye_outer_corner_y</th>\n",
       "      <td>39.97</td>\n",
       "      <td>36.1872</td>\n",
       "      <td>36.321</td>\n",
       "      <td>38.381</td>\n",
       "      <td>39.8845</td>\n",
       "    </tr>\n",
       "    <tr>\n",
       "      <th>right_eye_inner_corner_x</th>\n",
       "      <td>36.3566</td>\n",
       "      <td>36.0347</td>\n",
       "      <td>37.6781</td>\n",
       "      <td>37.6186</td>\n",
       "      <td>36.9824</td>\n",
       "    </tr>\n",
       "    <tr>\n",
       "      <th>right_eye_inner_corner_y</th>\n",
       "      <td>37.3894</td>\n",
       "      <td>34.3615</td>\n",
       "      <td>36.321</td>\n",
       "      <td>38.7541</td>\n",
       "      <td>39.0949</td>\n",
       "    </tr>\n",
       "    <tr>\n",
       "      <th>right_eye_outer_corner_x</th>\n",
       "      <td>23.4529</td>\n",
       "      <td>24.4725</td>\n",
       "      <td>24.9764</td>\n",
       "      <td>25.3073</td>\n",
       "      <td>22.5061</td>\n",
       "    </tr>\n",
       "    <tr>\n",
       "      <th>right_eye_outer_corner_y</th>\n",
       "      <td>37.3894</td>\n",
       "      <td>33.1444</td>\n",
       "      <td>36.6032</td>\n",
       "      <td>38.0079</td>\n",
       "      <td>38.3052</td>\n",
       "    </tr>\n",
       "    <tr>\n",
       "      <th>left_eyebrow_inner_end_x</th>\n",
       "      <td>56.9533</td>\n",
       "      <td>53.9874</td>\n",
       "      <td>55.7425</td>\n",
       "      <td>56.4338</td>\n",
       "      <td>57.2496</td>\n",
       "    </tr>\n",
       "    <tr>\n",
       "      <th>left_eyebrow_inner_end_y</th>\n",
       "      <td>29.0336</td>\n",
       "      <td>28.2759</td>\n",
       "      <td>27.5709</td>\n",
       "      <td>30.9299</td>\n",
       "      <td>30.6722</td>\n",
       "    </tr>\n",
       "    <tr>\n",
       "      <th>left_eyebrow_outer_end_x</th>\n",
       "      <td>80.2271</td>\n",
       "      <td>78.6342</td>\n",
       "      <td>78.8874</td>\n",
       "      <td>77.9103</td>\n",
       "      <td>77.7629</td>\n",
       "    </tr>\n",
       "    <tr>\n",
       "      <th>left_eyebrow_outer_end_y</th>\n",
       "      <td>32.2281</td>\n",
       "      <td>30.4059</td>\n",
       "      <td>32.6516</td>\n",
       "      <td>31.6657</td>\n",
       "      <td>31.7372</td>\n",
       "    </tr>\n",
       "    <tr>\n",
       "      <th>right_eyebrow_inner_end_x</th>\n",
       "      <td>40.2276</td>\n",
       "      <td>42.7289</td>\n",
       "      <td>42.1939</td>\n",
       "      <td>41.6715</td>\n",
       "      <td>38.0354</td>\n",
       "    </tr>\n",
       "    <tr>\n",
       "      <th>right_eyebrow_inner_end_y</th>\n",
       "      <td>29.0023</td>\n",
       "      <td>26.146</td>\n",
       "      <td>28.1355</td>\n",
       "      <td>31.05</td>\n",
       "      <td>30.9354</td>\n",
       "    </tr>\n",
       "    <tr>\n",
       "      <th>right_eyebrow_outer_end_x</th>\n",
       "      <td>16.3564</td>\n",
       "      <td>16.8654</td>\n",
       "      <td>16.7912</td>\n",
       "      <td>20.458</td>\n",
       "      <td>15.9259</td>\n",
       "    </tr>\n",
       "    <tr>\n",
       "      <th>right_eyebrow_outer_end_y</th>\n",
       "      <td>29.6475</td>\n",
       "      <td>27.0589</td>\n",
       "      <td>32.0871</td>\n",
       "      <td>29.9093</td>\n",
       "      <td>30.6722</td>\n",
       "    </tr>\n",
       "    <tr>\n",
       "      <th>nose_tip_x</th>\n",
       "      <td>44.4206</td>\n",
       "      <td>48.2063</td>\n",
       "      <td>47.5573</td>\n",
       "      <td>51.8851</td>\n",
       "      <td>43.2995</td>\n",
       "    </tr>\n",
       "    <tr>\n",
       "      <th>nose_tip_y</th>\n",
       "      <td>57.0668</td>\n",
       "      <td>55.6609</td>\n",
       "      <td>53.5389</td>\n",
       "      <td>54.1665</td>\n",
       "      <td>64.8895</td>\n",
       "    </tr>\n",
       "    <tr>\n",
       "      <th>mouth_left_corner_x</th>\n",
       "      <td>61.1953</td>\n",
       "      <td>56.4214</td>\n",
       "      <td>60.8229</td>\n",
       "      <td>65.5989</td>\n",
       "      <td>60.6714</td>\n",
       "    </tr>\n",
       "    <tr>\n",
       "      <th>mouth_left_corner_y</th>\n",
       "      <td>79.9702</td>\n",
       "      <td>76.352</td>\n",
       "      <td>73.0143</td>\n",
       "      <td>72.7037</td>\n",
       "      <td>77.5232</td>\n",
       "    </tr>\n",
       "    <tr>\n",
       "      <th>mouth_right_corner_x</th>\n",
       "      <td>28.6145</td>\n",
       "      <td>35.1224</td>\n",
       "      <td>33.7263</td>\n",
       "      <td>37.2455</td>\n",
       "      <td>31.1918</td>\n",
       "    </tr>\n",
       "    <tr>\n",
       "      <th>mouth_right_corner_y</th>\n",
       "      <td>77.389</td>\n",
       "      <td>76.0477</td>\n",
       "      <td>72.732</td>\n",
       "      <td>74.1955</td>\n",
       "      <td>76.9973</td>\n",
       "    </tr>\n",
       "    <tr>\n",
       "      <th>mouth_center_top_lip_x</th>\n",
       "      <td>43.3126</td>\n",
       "      <td>46.6846</td>\n",
       "      <td>47.2749</td>\n",
       "      <td>50.3032</td>\n",
       "      <td>44.9627</td>\n",
       "    </tr>\n",
       "    <tr>\n",
       "      <th>mouth_center_top_lip_y</th>\n",
       "      <td>72.9355</td>\n",
       "      <td>70.2666</td>\n",
       "      <td>70.1918</td>\n",
       "      <td>70.0917</td>\n",
       "      <td>73.7074</td>\n",
       "    </tr>\n",
       "    <tr>\n",
       "      <th>mouth_center_bottom_lip_x</th>\n",
       "      <td>43.1307</td>\n",
       "      <td>45.4679</td>\n",
       "      <td>47.2749</td>\n",
       "      <td>51.5612</td>\n",
       "      <td>44.2271</td>\n",
       "    </tr>\n",
       "    <tr>\n",
       "      <th>mouth_center_bottom_lip_y</th>\n",
       "      <td>84.4858</td>\n",
       "      <td>85.4802</td>\n",
       "      <td>78.6594</td>\n",
       "      <td>78.2684</td>\n",
       "      <td>86.8712</td>\n",
       "    </tr>\n",
       "    <tr>\n",
       "      <th>Image</th>\n",
       "      <td>238 236 237 238 240 240 239 241 241 243 240 23...</td>\n",
       "      <td>219 215 204 196 204 211 212 200 180 168 178 19...</td>\n",
       "      <td>144 142 159 180 188 188 184 180 167 132 84 59 ...</td>\n",
       "      <td>193 192 193 194 194 194 193 192 168 111 50 12 ...</td>\n",
       "      <td>147 148 160 196 215 214 216 217 219 220 206 18...</td>\n",
       "    </tr>\n",
       "  </tbody>\n",
       "</table>\n",
       "</div>"
      ],
      "text/plain": [
       "                                                                           0  \\\n",
       "left_eye_center_x                                                    66.0336   \n",
       "left_eye_center_y                                                    39.0023   \n",
       "right_eye_center_x                                                    30.227   \n",
       "right_eye_center_y                                                   36.4217   \n",
       "left_eye_inner_corner_x                                              59.5821   \n",
       "left_eye_inner_corner_y                                              39.6474   \n",
       "left_eye_outer_corner_x                                              73.1303   \n",
       "left_eye_outer_corner_y                                                39.97   \n",
       "right_eye_inner_corner_x                                             36.3566   \n",
       "right_eye_inner_corner_y                                             37.3894   \n",
       "right_eye_outer_corner_x                                             23.4529   \n",
       "right_eye_outer_corner_y                                             37.3894   \n",
       "left_eyebrow_inner_end_x                                             56.9533   \n",
       "left_eyebrow_inner_end_y                                             29.0336   \n",
       "left_eyebrow_outer_end_x                                             80.2271   \n",
       "left_eyebrow_outer_end_y                                             32.2281   \n",
       "right_eyebrow_inner_end_x                                            40.2276   \n",
       "right_eyebrow_inner_end_y                                            29.0023   \n",
       "right_eyebrow_outer_end_x                                            16.3564   \n",
       "right_eyebrow_outer_end_y                                            29.6475   \n",
       "nose_tip_x                                                           44.4206   \n",
       "nose_tip_y                                                           57.0668   \n",
       "mouth_left_corner_x                                                  61.1953   \n",
       "mouth_left_corner_y                                                  79.9702   \n",
       "mouth_right_corner_x                                                 28.6145   \n",
       "mouth_right_corner_y                                                  77.389   \n",
       "mouth_center_top_lip_x                                               43.3126   \n",
       "mouth_center_top_lip_y                                               72.9355   \n",
       "mouth_center_bottom_lip_x                                            43.1307   \n",
       "mouth_center_bottom_lip_y                                            84.4858   \n",
       "Image                      238 236 237 238 240 240 239 241 241 243 240 23...   \n",
       "\n",
       "                                                                           1  \\\n",
       "left_eye_center_x                                                    64.3329   \n",
       "left_eye_center_y                                                    34.9701   \n",
       "right_eye_center_x                                                   29.9493   \n",
       "right_eye_center_y                                                   33.4487   \n",
       "left_eye_inner_corner_x                                              58.8562   \n",
       "left_eye_inner_corner_y                                              35.2743   \n",
       "left_eye_outer_corner_x                                              70.7227   \n",
       "left_eye_outer_corner_y                                              36.1872   \n",
       "right_eye_inner_corner_x                                             36.0347   \n",
       "right_eye_inner_corner_y                                             34.3615   \n",
       "right_eye_outer_corner_x                                             24.4725   \n",
       "right_eye_outer_corner_y                                             33.1444   \n",
       "left_eyebrow_inner_end_x                                             53.9874   \n",
       "left_eyebrow_inner_end_y                                             28.2759   \n",
       "left_eyebrow_outer_end_x                                             78.6342   \n",
       "left_eyebrow_outer_end_y                                             30.4059   \n",
       "right_eyebrow_inner_end_x                                            42.7289   \n",
       "right_eyebrow_inner_end_y                                             26.146   \n",
       "right_eyebrow_outer_end_x                                            16.8654   \n",
       "right_eyebrow_outer_end_y                                            27.0589   \n",
       "nose_tip_x                                                           48.2063   \n",
       "nose_tip_y                                                           55.6609   \n",
       "mouth_left_corner_x                                                  56.4214   \n",
       "mouth_left_corner_y                                                   76.352   \n",
       "mouth_right_corner_x                                                 35.1224   \n",
       "mouth_right_corner_y                                                 76.0477   \n",
       "mouth_center_top_lip_x                                               46.6846   \n",
       "mouth_center_top_lip_y                                               70.2666   \n",
       "mouth_center_bottom_lip_x                                            45.4679   \n",
       "mouth_center_bottom_lip_y                                            85.4802   \n",
       "Image                      219 215 204 196 204 211 212 200 180 168 178 19...   \n",
       "\n",
       "                                                                           2  \\\n",
       "left_eye_center_x                                                    65.0571   \n",
       "left_eye_center_y                                                    34.9096   \n",
       "right_eye_center_x                                                   30.9038   \n",
       "right_eye_center_y                                                   34.9096   \n",
       "left_eye_inner_corner_x                                               59.412   \n",
       "left_eye_inner_corner_y                                               36.321   \n",
       "left_eye_outer_corner_x                                              70.9844   \n",
       "left_eye_outer_corner_y                                               36.321   \n",
       "right_eye_inner_corner_x                                             37.6781   \n",
       "right_eye_inner_corner_y                                              36.321   \n",
       "right_eye_outer_corner_x                                             24.9764   \n",
       "right_eye_outer_corner_y                                             36.6032   \n",
       "left_eyebrow_inner_end_x                                             55.7425   \n",
       "left_eyebrow_inner_end_y                                             27.5709   \n",
       "left_eyebrow_outer_end_x                                             78.8874   \n",
       "left_eyebrow_outer_end_y                                             32.6516   \n",
       "right_eyebrow_inner_end_x                                            42.1939   \n",
       "right_eyebrow_inner_end_y                                            28.1355   \n",
       "right_eyebrow_outer_end_x                                            16.7912   \n",
       "right_eyebrow_outer_end_y                                            32.0871   \n",
       "nose_tip_x                                                           47.5573   \n",
       "nose_tip_y                                                           53.5389   \n",
       "mouth_left_corner_x                                                  60.8229   \n",
       "mouth_left_corner_y                                                  73.0143   \n",
       "mouth_right_corner_x                                                 33.7263   \n",
       "mouth_right_corner_y                                                  72.732   \n",
       "mouth_center_top_lip_x                                               47.2749   \n",
       "mouth_center_top_lip_y                                               70.1918   \n",
       "mouth_center_bottom_lip_x                                            47.2749   \n",
       "mouth_center_bottom_lip_y                                            78.6594   \n",
       "Image                      144 142 159 180 188 188 184 180 167 132 84 59 ...   \n",
       "\n",
       "                                                                           3  \\\n",
       "left_eye_center_x                                                    65.2257   \n",
       "left_eye_center_y                                                    37.2618   \n",
       "right_eye_center_x                                                   32.0231   \n",
       "right_eye_center_y                                                   37.2618   \n",
       "left_eye_inner_corner_x                                              60.0033   \n",
       "left_eye_inner_corner_y                                              39.1272   \n",
       "left_eye_outer_corner_x                                              72.3147   \n",
       "left_eye_outer_corner_y                                               38.381   \n",
       "right_eye_inner_corner_x                                             37.6186   \n",
       "right_eye_inner_corner_y                                             38.7541   \n",
       "right_eye_outer_corner_x                                             25.3073   \n",
       "right_eye_outer_corner_y                                             38.0079   \n",
       "left_eyebrow_inner_end_x                                             56.4338   \n",
       "left_eyebrow_inner_end_y                                             30.9299   \n",
       "left_eyebrow_outer_end_x                                             77.9103   \n",
       "left_eyebrow_outer_end_y                                             31.6657   \n",
       "right_eyebrow_inner_end_x                                            41.6715   \n",
       "right_eyebrow_inner_end_y                                              31.05   \n",
       "right_eyebrow_outer_end_x                                             20.458   \n",
       "right_eyebrow_outer_end_y                                            29.9093   \n",
       "nose_tip_x                                                           51.8851   \n",
       "nose_tip_y                                                           54.1665   \n",
       "mouth_left_corner_x                                                  65.5989   \n",
       "mouth_left_corner_y                                                  72.7037   \n",
       "mouth_right_corner_x                                                 37.2455   \n",
       "mouth_right_corner_y                                                 74.1955   \n",
       "mouth_center_top_lip_x                                               50.3032   \n",
       "mouth_center_top_lip_y                                               70.0917   \n",
       "mouth_center_bottom_lip_x                                            51.5612   \n",
       "mouth_center_bottom_lip_y                                            78.2684   \n",
       "Image                      193 192 193 194 194 194 193 192 168 111 50 12 ...   \n",
       "\n",
       "                                                                           4  \n",
       "left_eye_center_x                                                    66.7253  \n",
       "left_eye_center_y                                                    39.6213  \n",
       "right_eye_center_x                                                   32.2448  \n",
       "right_eye_center_y                                                    38.042  \n",
       "left_eye_inner_corner_x                                              58.5659  \n",
       "left_eye_inner_corner_y                                              39.6213  \n",
       "left_eye_outer_corner_x                                              72.5159  \n",
       "left_eye_outer_corner_y                                              39.8845  \n",
       "right_eye_inner_corner_x                                             36.9824  \n",
       "right_eye_inner_corner_y                                             39.0949  \n",
       "right_eye_outer_corner_x                                             22.5061  \n",
       "right_eye_outer_corner_y                                             38.3052  \n",
       "left_eyebrow_inner_end_x                                             57.2496  \n",
       "left_eyebrow_inner_end_y                                             30.6722  \n",
       "left_eyebrow_outer_end_x                                             77.7629  \n",
       "left_eyebrow_outer_end_y                                             31.7372  \n",
       "right_eyebrow_inner_end_x                                            38.0354  \n",
       "right_eyebrow_inner_end_y                                            30.9354  \n",
       "right_eyebrow_outer_end_x                                            15.9259  \n",
       "right_eyebrow_outer_end_y                                            30.6722  \n",
       "nose_tip_x                                                           43.2995  \n",
       "nose_tip_y                                                           64.8895  \n",
       "mouth_left_corner_x                                                  60.6714  \n",
       "mouth_left_corner_y                                                  77.5232  \n",
       "mouth_right_corner_x                                                 31.1918  \n",
       "mouth_right_corner_y                                                 76.9973  \n",
       "mouth_center_top_lip_x                                               44.9627  \n",
       "mouth_center_top_lip_y                                               73.7074  \n",
       "mouth_center_bottom_lip_x                                            44.2271  \n",
       "mouth_center_bottom_lip_y                                            86.8712  \n",
       "Image                      147 148 160 196 215 214 216 217 219 220 206 18...  "
      ]
     },
     "execution_count": 4,
     "metadata": {},
     "output_type": "execute_result"
    }
   ],
   "source": [
    "train_csv.head().T"
   ]
  },
  {
   "cell_type": "code",
   "execution_count": 5,
   "metadata": {},
   "outputs": [
    {
     "data": {
      "text/plain": [
       "True     28\n",
       "False     3\n",
       "dtype: int64"
      ]
     },
     "execution_count": 5,
     "metadata": {},
     "output_type": "execute_result"
    }
   ],
   "source": [
    "# check for missing values\n",
    "\n",
    "train_csv.isnull().any().value_counts()"
   ]
  },
  {
   "cell_type": "markdown",
   "metadata": {},
   "source": [
    "所以遗失的数据有 28 行。有两种解决一种是把所在的列也删掉，一种是用其他数据来填充遗失的数据。前者会减少数据，不建议这么做。所以用第二种方法处理遗失数据。"
   ]
  },
  {
   "cell_type": "code",
   "execution_count": 6,
   "metadata": {},
   "outputs": [],
   "source": [
    "train_csv.fillna(method='ffill', inplace=True)"
   ]
  },
  {
   "cell_type": "code",
   "execution_count": 7,
   "metadata": {},
   "outputs": [
    {
     "data": {
      "text/plain": [
       "False    31\n",
       "dtype: int64"
      ]
     },
     "execution_count": 7,
     "metadata": {},
     "output_type": "execute_result"
    }
   ],
   "source": [
    "# check for missing values after filling missing values\n",
    "\n",
    "train_csv.isnull().any().value_counts()"
   ]
  },
  {
   "cell_type": "markdown",
   "metadata": {},
   "source": [
    "缺失的数据已经被填充了。"
   ]
  },
  {
   "cell_type": "markdown",
   "metadata": {},
   "source": [
    "接下来要做的就是还原图片数据，打印绘制图片。"
   ]
  },
  {
   "cell_type": "code",
   "execution_count": 8,
   "metadata": {},
   "outputs": [
    {
     "data": {
      "text/plain": [
       "(7049,)"
      ]
     },
     "execution_count": 8,
     "metadata": {},
     "output_type": "execute_result"
    }
   ],
   "source": [
    "img = train_csv['Image']\n",
    "img.shape"
   ]
  },
  {
   "cell_type": "code",
   "execution_count": 9,
   "metadata": {},
   "outputs": [],
   "source": [
    "imag = []\n",
    "for i in range(0, 7049):\n",
    "    img = train_csv['Image'][i].split(' ') # 以空格来分隔\n",
    "    img = ['0' if x == '' else x for x in img]\n",
    "    imag.append(img)"
   ]
  },
  {
   "cell_type": "code",
   "execution_count": 10,
   "metadata": {},
   "outputs": [
    {
     "name": "stdout",
     "output_type": "stream",
     "text": [
      "(7049, 9216)\n"
     ]
    }
   ],
   "source": [
    "# reshape and convert it into float value \n",
    "\n",
    "image_list = np.array(imag, dtype='float')\n",
    "print(image_list.shape)\n",
    "X_train = image_list.reshape(-1, 96, 96)"
   ]
  },
  {
   "cell_type": "code",
   "execution_count": 11,
   "metadata": {},
   "outputs": [
    {
     "data": {
      "image/png": "[encoded data removed]",
      "text/plain": [
       "<Figure size 432x288 with 1 Axes>"
      ]
     },
     "metadata": {
      "needs_background": "light"
     },
     "output_type": "display_data"
    }
   ],
   "source": [
    "# plot the image\n",
    "\n",
    "plt.imshow(X_train[20], cmap='gray')\n",
    "plt.show()"
   ]
  },
  {
   "cell_type": "code",
   "execution_count": 12,
   "metadata": {},
   "outputs": [],
   "source": [
    "# separate labels\n",
    "\n",
    "# Drop specified labels from rows or columns,1 means columns\n",
    "training = train_csv.drop('Image', axis=1) \n",
    "\n",
    "y_train = []\n",
    "for i in range(0, 7049):\n",
    "    y = training.iloc[i, :]\n",
    "    y_train.append(y)\n",
    "    \n",
    "y_train = np.array(y_train, dtype='float')"
   ]
  },
  {
   "cell_type": "code",
   "execution_count": 13,
   "metadata": {},
   "outputs": [],
   "source": [
    "from keras.layers import Conv2D, Dropout, Dense, Flatten\n",
    "from keras.models import Sequential\n",
    "from keras import optimizers\n",
    "\n",
    "model = Sequential([Flatten(input_shape=(96,96)),\n",
    "                     Dense(128, activation=\"relu\"),\n",
    "                     Dropout(0.1),\n",
    "                     Dense(64, activation=\"relu\"),\n",
    "                     Dense(30)\n",
    "                       ])\n",
    "adam = optimizers.Adam(lr=0.0001, beta_1=0.9, beta_2=0.999, epsilon=1e-08, decay=0.0)\n",
    "model.compile(optimizer=adam,\n",
    "              loss='mse',\n",
    "              metrics=['mae', 'accuracy'])"
   ]
  },
  {
   "cell_type": "code",
   "execution_count": 14,
   "metadata": {},
   "outputs": [
    {
     "data": {
      "image/png": "[encoded data removed]",
      "text/plain": [
       "<Figure size 864x864 with 3 Axes>"
      ]
     },
     "metadata": {
      "needs_background": "light"
     },
     "output_type": "display_data"
    },
    {
     "name": "stdout",
     "output_type": "stream",
     "text": [
      "mse (cost function):\n",
      "training   (min:   50.933, max: 2479.020, cur:   53.660)\n",
      "validation (min:   87.946, max:  793.761, cur:   93.733)\n",
      "\n",
      "Mean absolute error:\n",
      "training   (min:    5.185, max:   36.296, cur:    5.225)\n",
      "validation (min:    6.769, max:   23.425, cur:    7.008)\n",
      "\n",
      "Accuracy:\n",
      "training   (min:    0.024, max:    0.634, cur:    0.628)\n",
      "validation (min:    0.052, max:    0.687, cur:    0.664)\n"
     ]
    },
    {
     "data": {
      "text/plain": [
       "<keras.callbacks.History at 0x26def1d92e8>"
      ]
     },
     "execution_count": 14,
     "metadata": {},
     "output_type": "execute_result"
    }
   ],
   "source": [
    "model.fit(X_train, y_train, \n",
    "          epochs=500, batch_size=128, \n",
    "          validation_split=0.2,\n",
    "          callbacks=[PlotLossesKeras()])"
   ]
  },
  {
   "cell_type": "code",
   "execution_count": 15,
   "metadata": {},
   "outputs": [
    {
     "name": "stdout",
     "output_type": "stream",
     "text": [
      "<class 'pandas.core.frame.DataFrame'>\n",
      "RangeIndex: 1783 entries, 0 to 1782\n",
      "Data columns (total 2 columns):\n",
      "ImageId    1783 non-null int64\n",
      "Image      1783 non-null object\n",
      "dtypes: int64(1), object(1)\n",
      "memory usage: 27.9+ KB\n"
     ]
    }
   ],
   "source": [
    "# read test.csv \n",
    "\n",
    "test_csv = pd.read_csv('test.csv')\n",
    "test_csv.info()"
   ]
  },
  {
   "cell_type": "code",
   "execution_count": 16,
   "metadata": {},
   "outputs": [],
   "source": [
    "# preparing test data\n",
    "\n",
    "timag = []\n",
    "for i in range(0, 1783):\n",
    "    timg = test_csv['Image'][i].split(' ')\n",
    "    timg = ['0' if x == '' else x for x in timg]\n",
    "    \n",
    "    timag.append(timg)"
   ]
  },
  {
   "cell_type": "code",
   "execution_count": 17,
   "metadata": {},
   "outputs": [],
   "source": [
    "timage_list = np.array(timag, dtype='float')\n",
    "X_test = timage_list.reshape(-1, 96, 96)"
   ]
  },
  {
   "cell_type": "code",
   "execution_count": 18,
   "metadata": {},
   "outputs": [
    {
     "data": {
      "image/png": "[encoded data removed]",
      "text/plain": [
       "<Figure size 432x288 with 1 Axes>"
      ]
     },
     "metadata": {
      "needs_background": "light"
     },
     "output_type": "display_data"
    }
   ],
   "source": [
    "plt.imshow(X_test[0], cmap='gray')\n",
    "plt.show()"
   ]
  },
  {
   "cell_type": "code",
   "execution_count": 19,
   "metadata": {},
   "outputs": [],
   "source": [
    "pred = model.predict(X_test)"
   ]
  },
  {
   "cell_type": "code",
   "execution_count": 20,
   "metadata": {},
   "outputs": [
    {
     "data": {
      "text/plain": [
       "(1783, 30)"
      ]
     },
     "execution_count": 20,
     "metadata": {},
     "output_type": "execute_result"
    }
   ],
   "source": [
    "pred.shape"
   ]
  },
  {
   "cell_type": "code",
   "execution_count": 21,
   "metadata": {},
   "outputs": [],
   "source": [
    "lookid_csv = pd.read_csv(\"IdLookupTable.csv\")\n",
    "lookid_list = list(lookid_csv['FeatureName'])\n",
    "imageID = list(lookid_csv['ImageId'] - 1)\n",
    "pre_list = list(pred)"
   ]
  },
  {
   "cell_type": "code",
   "execution_count": 22,
   "metadata": {},
   "outputs": [],
   "source": [
    "rowid = lookid_csv['RowId']\n",
    "rowid = list(rowid)"
   ]
  },
  {
   "cell_type": "code",
   "execution_count": 23,
   "metadata": {},
   "outputs": [],
   "source": [
    "feature = []\n",
    "for f in list(lookid_csv['FeatureName']):\n",
    "    feature.append(lookid_list.index(f))"
   ]
  },
  {
   "cell_type": "code",
   "execution_count": 24,
   "metadata": {},
   "outputs": [],
   "source": [
    "preded = []\n",
    "for x,y in zip(imageID, feature):\n",
    "    preded.append(pre_list[x][y])"
   ]
  },
  {
   "cell_type": "code",
   "execution_count": 25,
   "metadata": {},
   "outputs": [],
   "source": [
    "rowid = pd.Series(rowid, name='RowId')"
   ]
  },
  {
   "cell_type": "code",
   "execution_count": 26,
   "metadata": {},
   "outputs": [],
   "source": [
    "loc = pd.Series(preded, name='Location')"
   ]
  },
  {
   "cell_type": "code",
   "execution_count": 27,
   "metadata": {},
   "outputs": [],
   "source": [
    "submission = pd.concat([rowid,loc], axis=1)"
   ]
  },
  {
   "cell_type": "code",
   "execution_count": 28,
   "metadata": {},
   "outputs": [],
   "source": [
    "submission.to_csv('face_key_detection_submission.csv', index=False)"
   ]
  },
  {
   "cell_type": "code",
   "execution_count": null,
   "metadata": {},
   "outputs": [],
   "source": []
  }
 ],
 "metadata": {
  "kernelspec": {
   "display_name": "Python 3",
   "language": "python",
   "name": "python3"
  },
  "language_info": {
   "codemirror_mode": {
    "name": "ipython",
    "version": 3
   },
   "file_extension": ".py",
   "mimetype": "text/x-python",
   "name": "python",
   "nbconvert_exporter": "python",
   "pygments_lexer": "ipython3",
   "version": "3.6.0"
  }
 },
 "nbformat": 4,
 "nbformat_minor": 2
}
